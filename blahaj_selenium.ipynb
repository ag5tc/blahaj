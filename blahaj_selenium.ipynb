{
 "cells": [
  {
   "cell_type": "code",
   "execution_count": 1,
   "metadata": {},
   "outputs": [],
   "source": [
    "from selenium import webdriver\n",
    "import time\n",
    "import pandas as pd"
   ]
  },
  {
   "cell_type": "code",
   "execution_count": 2,
   "metadata": {},
   "outputs": [],
   "source": [
    "# input URL for IKEA article\n",
    "URL = 'https://www.ikea.com/us/en/p/blahaj-soft-toy-shark-90373590/'"
   ]
  },
  {
   "cell_type": "code",
   "execution_count": 3,
   "metadata": {},
   "outputs": [],
   "source": [
    "driver = webdriver.Chrome()"
   ]
  },
  {
   "cell_type": "code",
   "execution_count": 4,
   "metadata": {},
   "outputs": [],
   "source": [
    "driver.get(URL)"
   ]
  },
  {
   "cell_type": "code",
   "execution_count": 5,
   "metadata": {},
   "outputs": [],
   "source": [
    "time.sleep(5)"
   ]
  },
  {
   "cell_type": "code",
   "execution_count": 6,
   "metadata": {},
   "outputs": [],
   "source": [
    "# accept cookies (ensures smooth operation)\n",
    "driver.find_elements_by_xpath('/html/body/div[8]/div/div[2]/button')[0].click()"
   ]
  },
  {
   "cell_type": "code",
   "execution_count": 7,
   "metadata": {},
   "outputs": [
    {
     "name": "stdout",
     "output_type": "stream",
     "text": [
      "159\n"
     ]
    }
   ],
   "source": [
    "# ascertain number of reviews\n",
    "n_reviews = driver.find_elements_by_class_name('range-revamp-average-rating__reviews')[0].text\n",
    "n_reviews = int(n_reviews[1:len(n_reviews)-1])\n",
    "print(n_reviews)"
   ]
  },
  {
   "cell_type": "code",
   "execution_count": 8,
   "metadata": {},
   "outputs": [],
   "source": [
    "# ascertain how many pages of reviews are to be looped over\n",
    "pages = n_reviews//20\n",
    "remainder = n_reviews%20"
   ]
  },
  {
   "cell_type": "code",
   "execution_count": 9,
   "metadata": {},
   "outputs": [],
   "source": [
    "# open Reviews\n",
    "driver.find_elements_by_xpath('//*[@id=\"content\"]/div/div[1]/div/div[2]/div[2]/div[2]/div[3]/button/span')[0].click()"
   ]
  },
  {
   "cell_type": "code",
   "execution_count": 10,
   "metadata": {},
   "outputs": [],
   "source": [
    "ratings = []\n",
    "names_dates = []\n",
    "titles = []\n",
    "reviews = []\n",
    "\n",
    "star = 'range-revamp-svg-icon range-revamp-ratings-bar__star range-revamp-ratings-bar__star--filled'\n",
    "right_arrow = '//*[@id=\"range-modal-mount-node\"]/div/div[3]/div/div[2]/div/div[2]/div[22]/button[2]'"
   ]
  },
  {
   "cell_type": "code",
   "execution_count": 11,
   "metadata": {},
   "outputs": [],
   "source": [
    "time.sleep(5)"
   ]
  },
  {
   "cell_type": "code",
   "execution_count": 12,
   "metadata": {},
   "outputs": [
    {
     "name": "stdout",
     "output_type": "stream",
     "text": [
      "20\n",
      "40\n",
      "60\n",
      "80\n",
      "100\n",
      "120\n",
      "140\n"
     ]
    }
   ],
   "source": [
    "for i in range(pages):\n",
    "    for x in range(2,22):\n",
    "        xpath_prefix = '//*[@id=\"range-modal-mount-node\"]/div/div[3]/div/div[2]/div/div[2]'\n",
    "        xpath_base = xpath_prefix + '/div[' + str(x) + ']'\n",
    "    \n",
    "        # the rating\n",
    "        xpath_rating_base = xpath_base + '/div[1]/div[1]/span/'\n",
    "        rating = 0\n",
    "        for i in range(1,6):\n",
    "            xpath_rating = xpath_rating_base + '*[name()=\"svg\"][' + str(i) + ']'\n",
    "            test_element = driver.find_elements_by_xpath(xpath_rating)[0]\n",
    "            if test_element.get_attribute('class') == star:\n",
    "                rating += 1\n",
    "        ratings.append(rating)\n",
    "    \n",
    "        # the name and date\n",
    "        xpath_name_date = xpath_base + '/div[1]/div[2]'\n",
    "        element_name_date = driver.find_elements_by_xpath(xpath_name_date)[0]\n",
    "        name_date = element_name_date.text\n",
    "        names_dates.append(name_date)\n",
    "    \n",
    "        # the title\n",
    "        xpath_title = xpath_base + '/div[2]'\n",
    "        try:\n",
    "            element_title = driver.find_elements_by_xpath(xpath_title)[0]\n",
    "            title = element_title.text\n",
    "            titles.append(title)\n",
    "        except:\n",
    "            titles.append('n/a')\n",
    "    \n",
    "        # the review\n",
    "        xpath_review = xpath_base + '/div[3]'\n",
    "        try:\n",
    "            element_review = driver.find_elements_by_xpath(xpath_review)[0]\n",
    "            review = element_review.text\n",
    "            reviews.append(review)\n",
    "        except:\n",
    "            reviews.append('n/a')\n",
    "    \n",
    "    print(len(ratings))\n",
    "    # next 20\n",
    "    driver.find_elements_by_xpath(right_arrow)[0].click()\n",
    "    time.sleep(2.5)"
   ]
  },
  {
   "cell_type": "code",
   "execution_count": 13,
   "metadata": {},
   "outputs": [
    {
     "name": "stdout",
     "output_type": "stream",
     "text": [
      "159\n"
     ]
    }
   ],
   "source": [
    "# last however many\n",
    "for x in range(2,remainder+2):\n",
    "    xpath_prefix = '//*[@id=\"range-modal-mount-node\"]/div/div[3]/div/div[2]/div/div[2]'\n",
    "    xpath_base = xpath_prefix + '/div[' + str(x) + ']'\n",
    "    \n",
    "    # the rating\n",
    "    xpath_rating_base = xpath_base + '/div[1]/div[1]/span/'\n",
    "    rating = 0\n",
    "    for i in range(1,6):\n",
    "        xpath_rating = xpath_rating_base + '*[name()=\"svg\"][' + str(i) + ']'\n",
    "        test_element = driver.find_elements_by_xpath(xpath_rating)[0]\n",
    "        if test_element.get_attribute('class') == star:\n",
    "            rating += 1\n",
    "    ratings.append(rating)\n",
    "    \n",
    "    # the name and date\n",
    "    xpath_name_date = xpath_base + '/div[1]/div[2]'\n",
    "    element_name_date = driver.find_elements_by_xpath(xpath_name_date)[0]\n",
    "    name_date = element_name_date.text\n",
    "    names_dates.append(name_date)\n",
    "    \n",
    "    # the title\n",
    "    xpath_title = xpath_base + '/div[2]'\n",
    "    try:\n",
    "        element_title = driver.find_elements_by_xpath(xpath_title)[0]\n",
    "        title = element_title.text\n",
    "        titles.append(title)\n",
    "    except:\n",
    "        titles.append('n/a')\n",
    "    \n",
    "    # the review\n",
    "    xpath_review = xpath_base + '/div[3]'\n",
    "    try:\n",
    "        element_review = driver.find_elements_by_xpath(xpath_review)[0]\n",
    "        review = element_review.text\n",
    "        reviews.append(review)\n",
    "    except:\n",
    "        reviews.append('n/a')\n",
    "    \n",
    "print(len(ratings))"
   ]
  },
  {
   "cell_type": "code",
   "execution_count": 14,
   "metadata": {},
   "outputs": [],
   "source": [
    "# Clean up author and date data\n",
    "authors = []\n",
    "dates = []\n",
    "\n",
    "for x in names_dates:\n",
    "    index = x.find(' - ')\n",
    "    authors.append(x[0:index])\n",
    "    dates.append(x[index+3:])"
   ]
  },
  {
   "cell_type": "code",
   "execution_count": 15,
   "metadata": {},
   "outputs": [
    {
     "data": {
      "text/html": [
       "<div>\n",
       "<style scoped>\n",
       "    .dataframe tbody tr th:only-of-type {\n",
       "        vertical-align: middle;\n",
       "    }\n",
       "\n",
       "    .dataframe tbody tr th {\n",
       "        vertical-align: top;\n",
       "    }\n",
       "\n",
       "    .dataframe thead th {\n",
       "        text-align: right;\n",
       "    }\n",
       "</style>\n",
       "<table border=\"1\" class=\"dataframe\">\n",
       "  <thead>\n",
       "    <tr style=\"text-align: right;\">\n",
       "      <th></th>\n",
       "      <th>Author</th>\n",
       "      <th>Date</th>\n",
       "      <th>Rating</th>\n",
       "      <th>Title</th>\n",
       "      <th>Review</th>\n",
       "    </tr>\n",
       "  </thead>\n",
       "  <tbody>\n",
       "    <tr>\n",
       "      <th>0</th>\n",
       "      <td>JINNIE</td>\n",
       "      <td>01/21/2021</td>\n",
       "      <td>5</td>\n",
       "      <td>This is my fourth purchase</td>\n",
       "      <td>This is my fourth purchase and I need them all...</td>\n",
       "    </tr>\n",
       "    <tr>\n",
       "      <th>1</th>\n",
       "      <td>Robbie</td>\n",
       "      <td>01/14/2021</td>\n",
       "      <td>5</td>\n",
       "      <td>Shark is number one</td>\n",
       "      <td>Everyone loves the shark. I hope you carry it ...</td>\n",
       "    </tr>\n",
       "    <tr>\n",
       "      <th>2</th>\n",
       "      <td>MARGORY</td>\n",
       "      <td>01/13/2021</td>\n",
       "      <td>5</td>\n",
       "      <td>My daughter loves</td>\n",
       "      <td>My daughter loves</td>\n",
       "    </tr>\n",
       "    <tr>\n",
       "      <th>3</th>\n",
       "      <td>DENISE</td>\n",
       "      <td>01/11/2021</td>\n",
       "      <td>5</td>\n",
       "      <td>Grandson loves it!</td>\n",
       "      <td>Grandson loves it!</td>\n",
       "    </tr>\n",
       "    <tr>\n",
       "      <th>4</th>\n",
       "      <td>Angelica</td>\n",
       "      <td>01/11/2021</td>\n",
       "      <td>5</td>\n",
       "      <td>My nephew loved it!</td>\n",
       "      <td>My nephew loved it!</td>\n",
       "    </tr>\n",
       "    <tr>\n",
       "      <th>...</th>\n",
       "      <td>...</td>\n",
       "      <td>...</td>\n",
       "      <td>...</td>\n",
       "      <td>...</td>\n",
       "      <td>...</td>\n",
       "    </tr>\n",
       "    <tr>\n",
       "      <th>154</th>\n",
       "      <td>nana24</td>\n",
       "      <td>10/16/2017</td>\n",
       "      <td>5</td>\n",
       "      <td>another fantastic IKEA stuffed toy!</td>\n",
       "      <td>Purchased 4 of these, one for each grandchild ...</td>\n",
       "    </tr>\n",
       "    <tr>\n",
       "      <th>155</th>\n",
       "      <td>Tillybean</td>\n",
       "      <td>10/16/2017</td>\n",
       "      <td>5</td>\n",
       "      <td>Love, love, love it!</td>\n",
       "      <td>This stuffed toy is so soft and cuddly! Everyo...</td>\n",
       "    </tr>\n",
       "    <tr>\n",
       "      <th>156</th>\n",
       "      <td>ErtBert</td>\n",
       "      <td>09/12/2017</td>\n",
       "      <td>5</td>\n",
       "      <td>Super soft!</td>\n",
       "      <td>I got this on an impulse and I have loved it e...</td>\n",
       "    </tr>\n",
       "    <tr>\n",
       "      <th>157</th>\n",
       "      <td>Blahajluv</td>\n",
       "      <td>08/31/2017</td>\n",
       "      <td>5</td>\n",
       "      <td>I finally found him!</td>\n",
       "      <td>I love sharks and I missed out on buying him y...</td>\n",
       "    </tr>\n",
       "    <tr>\n",
       "      <th>158</th>\n",
       "      <td>What a great shark</td>\n",
       "      <td>08/07/2017</td>\n",
       "      <td>5</td>\n",
       "      <td>Soft</td>\n",
       "      <td>This thing is so soft. Nice price for its size...</td>\n",
       "    </tr>\n",
       "  </tbody>\n",
       "</table>\n",
       "<p>159 rows × 5 columns</p>\n",
       "</div>"
      ],
      "text/plain": [
       "                 Author        Date  Rating  \\\n",
       "0                JINNIE  01/21/2021       5   \n",
       "1                Robbie  01/14/2021       5   \n",
       "2               MARGORY  01/13/2021       5   \n",
       "3                DENISE  01/11/2021       5   \n",
       "4              Angelica  01/11/2021       5   \n",
       "..                  ...         ...     ...   \n",
       "154              nana24  10/16/2017       5   \n",
       "155           Tillybean  10/16/2017       5   \n",
       "156             ErtBert  09/12/2017       5   \n",
       "157           Blahajluv  08/31/2017       5   \n",
       "158  What a great shark  08/07/2017       5   \n",
       "\n",
       "                                   Title  \\\n",
       "0             This is my fourth purchase   \n",
       "1                    Shark is number one   \n",
       "2                      My daughter loves   \n",
       "3                     Grandson loves it!   \n",
       "4                    My nephew loved it!   \n",
       "..                                   ...   \n",
       "154  another fantastic IKEA stuffed toy!   \n",
       "155                 Love, love, love it!   \n",
       "156                          Super soft!   \n",
       "157                 I finally found him!   \n",
       "158                                 Soft   \n",
       "\n",
       "                                                Review  \n",
       "0    This is my fourth purchase and I need them all...  \n",
       "1    Everyone loves the shark. I hope you carry it ...  \n",
       "2                                    My daughter loves  \n",
       "3                                   Grandson loves it!  \n",
       "4                                  My nephew loved it!  \n",
       "..                                                 ...  \n",
       "154  Purchased 4 of these, one for each grandchild ...  \n",
       "155  This stuffed toy is so soft and cuddly! Everyo...  \n",
       "156  I got this on an impulse and I have loved it e...  \n",
       "157  I love sharks and I missed out on buying him y...  \n",
       "158  This thing is so soft. Nice price for its size...  \n",
       "\n",
       "[159 rows x 5 columns]"
      ]
     },
     "execution_count": 15,
     "metadata": {},
     "output_type": "execute_result"
    }
   ],
   "source": [
    "# put data in Pandas data frame\n",
    "data_dict = {'Author':authors, 'Date': dates, 'Rating':ratings, 'Title':titles, 'Review':reviews}\n",
    "data_df = pd.DataFrame(data_dict)\n",
    "data_df"
   ]
  },
  {
   "cell_type": "code",
   "execution_count": 16,
   "metadata": {},
   "outputs": [],
   "source": [
    "# write out df to csv\n",
    "data_df.to_csv('reviews.csv', index=False)"
   ]
  },
  {
   "cell_type": "code",
   "execution_count": null,
   "metadata": {},
   "outputs": [],
   "source": []
  }
 ],
 "metadata": {
  "kernelspec": {
   "display_name": "Python 3",
   "language": "python",
   "name": "python3"
  },
  "language_info": {
   "codemirror_mode": {
    "name": "ipython",
    "version": 3
   },
   "file_extension": ".py",
   "mimetype": "text/x-python",
   "name": "python",
   "nbconvert_exporter": "python",
   "pygments_lexer": "ipython3",
   "version": "3.8.6"
  }
 },
 "nbformat": 4,
 "nbformat_minor": 5
}
