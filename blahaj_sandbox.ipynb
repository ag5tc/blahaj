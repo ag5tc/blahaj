{
 "cells": [
  {
   "cell_type": "markdown",
   "id": "dimensional-pursuit",
   "metadata": {},
   "source": [
    "## attemps at doing fun stuff with scraped reviews"
   ]
  },
  {
   "cell_type": "code",
   "execution_count": 1,
   "id": "demonstrated-language",
   "metadata": {},
   "outputs": [],
   "source": [
    "import pandas as pd"
   ]
  },
  {
   "cell_type": "code",
   "execution_count": 2,
   "id": "excessive-baker",
   "metadata": {},
   "outputs": [],
   "source": [
    "# Read in reviews\n",
    "data = pd.read_csv(\"reviews.csv\")"
   ]
  },
  {
   "cell_type": "code",
   "execution_count": 3,
   "id": "organized-newman",
   "metadata": {},
   "outputs": [],
   "source": [
    "# Add a couple translations\n",
    "data.at[29, 'Title'] = data.at[29, 'Title'] + ' (It\\'s too cute!)'\n",
    "data.at[29, 'Review'] = data.at[29, 'Review'] + '\\n(My son was very happy. After seeing the photo, my daughter wanted it too, so I will buy more when I go there again.)'\n",
    "data.at[40, 'Author'] = data.at[40, 'Author'] + ' (Electric Heater)'"
   ]
  },
  {
   "cell_type": "code",
   "execution_count": 4,
   "id": "objective-cocktail",
   "metadata": {},
   "outputs": [],
   "source": [
    "# make list of the reviews rendered in stars\n",
    "stars = []\n",
    "for x in range(len(data)):\n",
    "    stars_i = ''\n",
    "    for y in range(data.iat[x,2]):\n",
    "        stars_i = stars_i + '⭐️'\n",
    "    stars.append(stars_i)"
   ]
  },
  {
   "cell_type": "code",
   "execution_count": 5,
   "id": "involved-shadow",
   "metadata": {},
   "outputs": [],
   "source": [
    "# To Markdown\n",
    "output_list = []\n",
    "output_str = ''\n",
    "\n",
    "for i in range(len(data)):\n",
    "    x = f'## {stars[i]}\\n'\n",
    "    x += f'#### By {data.iat[i,0]}, dated {data.iat[i,1]}\\n'\n",
    "    x += f'## {data.iat[i,3]}\\n'\n",
    "    x += f'{data.iat[i,4]}\\n<br><br><br>\\n'\n",
    "    output_list.append(x)\n",
    "    output_str += x"
   ]
  },
  {
   "cell_type": "code",
   "execution_count": 6,
   "id": "excessive-quarter",
   "metadata": {},
   "outputs": [],
   "source": [
    "# write out\n",
    "f = open('output_text.md', 'w')\n",
    "f.write(output_str)\n",
    "f.close()"
   ]
  },
  {
   "cell_type": "markdown",
   "id": "muslim-processing",
   "metadata": {},
   "source": [
    "## ta-da!\n",
    "The [output](output_text.md)."
   ]
  }
 ],
 "metadata": {
  "kernelspec": {
   "display_name": "Python 3",
   "language": "python",
   "name": "python3"
  },
  "language_info": {
   "codemirror_mode": {
    "name": "ipython",
    "version": 3
   },
   "file_extension": ".py",
   "mimetype": "text/x-python",
   "name": "python",
   "nbconvert_exporter": "python",
   "pygments_lexer": "ipython3",
   "version": "3.8.6"
  }
 },
 "nbformat": 4,
 "nbformat_minor": 5
}
